{
 "cells": [
  {
   "cell_type": "markdown",
   "metadata": {},
   "source": [
    "$$\n",
    "\\sqrt{\\left(\\frac{2b}{\\pi a}\\tan\\left(\\frac{\\pi a}{2b}\\right)\\right)}\\left(\\frac{0.752 + 2.02\\left(\\frac{a}{b}\\right) + 0.37\\left(1 - \\sin\\left(\\frac{\\pi a}{2b}\\right)\\right)^3}{\\cos\\left(\\frac{\\pi a}{2b}\\right)}\\right)\n",
    "$$"
   ]
  },
  {
   "cell_type": "markdown",
   "metadata": {},
   "source": [
    "$$\n",
    "\\text{Kth} = \\frac{{K_0 \\sqrt{\\frac{a}{{a+1.91}}}}}{{\\left(\\frac{{1-f}}{{(1-A_0)(1-R)}}\\right)^{1+C_{th}R}}}\n",
    "$$\n"
   ]
  },
  {
   "cell_type": "markdown",
   "metadata": {},
   "source": [
    "$$\n",
    "\\text{nasgro} = \\frac{\\left(1-\\left(\\frac{S_{\\text{max}} \\cdot \\beta(a) \\cdot \\sqrt{\\pi a}}{K_c}\\right)\\right)^q}{C \\cdot U \\cdot \\left(S_{\\text{max}} \\cdot \\beta(a) \\cdot \\sqrt{\\pi a}\\right)^n \\cdot \\left(1-\\left(\\frac{K_{\\text{th}}}{S_{\\text{max}} \\cdot \\beta(a) \\cdot \\sqrt{\\pi a}}\\right)\\right)^p}\n",
    "$$"
   ]
  },
  {
   "cell_type": "markdown",
   "metadata": {},
   "source": [
    "$$\n",
    "K_c = (1 + B_k \\cdot \\exp\\left(-\\left(\\frac{A_k \\cdot t}{t_0}\\right)^2\\right)) \\cdot K_{1c}\n",
    "$$\n"
   ]
  }
 ],
 "metadata": {
  "kernelspec": {
   "display_name": "Python 3",
   "language": "python",
   "name": "python3"
  },
  "language_info": {
   "codemirror_mode": {
    "name": "ipython",
    "version": 3
   },
   "file_extension": ".py",
   "mimetype": "text/x-python",
   "name": "python",
   "nbconvert_exporter": "python",
   "pygments_lexer": "ipython3",
   "version": "3.12.1"
  }
 },
 "nbformat": 4,
 "nbformat_minor": 2
}
